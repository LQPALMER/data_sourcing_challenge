{
 "cells": [
  {
   "cell_type": "markdown",
   "metadata": {},
   "source": [
    "### Import Required Libraries and Set Up Environment Variables"
   ]
  },
  {
   "cell_type": "code",
   "execution_count": null,
   "metadata": {},
   "outputs": [],
   "source": [
    "# Dependencies\n",
    "import requests\n",
    "import time\n",
    "from dotenv import load_dotenv\n",
    "import os\n",
    "import pandas as pd\n",
    "import json"
   ]
  },
  {
   "cell_type": "code",
   "execution_count": null,
   "metadata": {},
   "outputs": [],
   "source": [
    "# Set environment variables from the .env in the local environment\n",
    "load_dotenv(\"api_keys.env\")\n",
    "nyt_api_key = os.getenv(\"NYT_API_KEY\")\n",
    "print(nyt_api_key)"
   ]
  },
  {
   "cell_type": "markdown",
   "metadata": {},
   "source": [
    "### Access the New York Times API"
   ]
  },
  {
   "cell_type": "code",
   "execution_count": null,
   "metadata": {},
   "outputs": [],
   "source": [
    "# Set the base URL\n",
    "base_url = \"https://api.nytimes.com/svc/search/v2/articlesearch.json?\"\n",
    "\n",
    "# Filter for movie reviews with \"love\" in the headline\n",
    "# section_name should be \"Movies\"\n",
    "# type_of_material should be \"Review\"\n",
    "# headline should be \"love\"\n",
    "filter_query = 'section_name:\"Movies\" AND type_of_material:\"Review\" AND headline:\"love\"'\n",
    "\n",
    "# Use a sort filter, sort by newest\n",
    "sort = \"newest\"\n",
    "\n",
    "# Select the following fields to return:\n",
    "# headline, web_url, snippet, source, keywords, pub_date, byline, word_count\n",
    "field_list = \"headline,web_url,snippet,source,keywords,pub_date,byline,word_count\"\n",
    "\n",
    "# Search for reviews published between a begin and end date\n",
    "begin_date = \"20130101\"\n",
    "end_date = \"20230531\"\n",
    "\n",
    "# Build URL\n",
    "base_url = \"https://api.nytimes.com/svc/search/v2/articlesearch.json?\"\n",
    "api_key = nyt_api_key\n",
    "filter_query = 'section_name:\"Movies\" AND type_of_material:\"Review\" AND headline:\"love\"'\n",
    "sort = \"newest\"\n",
    "field_list = \"headline,web_url,snippet,source,keywords,pub_date,byline,word_count\"\n",
    "begin_date = \"20130101\"\n",
    "end_date = \"20230531\"\n",
    "query_url = f\"{base_url}api-key={api_key}&fq={filter_query}&sort={sort}&fl={field_list}&begin_date={begin_date}&end_date={end_date }\""
   ]
  },
  {
   "cell_type": "code",
   "execution_count": null,
   "metadata": {},
   "outputs": [],
   "source": [
    "# Create an empty list to store the reviews\n",
    "movie_reviews_list = []\n",
    "\n",
    "# loop through pages 0-19\n",
    "for page in  range (0,5):\n",
    "    \n",
    "    # create query with a page number\n",
    "    # API results show 10 articles at a time\n",
    "    page_query = f\"{query_url}&page={page}\" \n",
    "    \n",
    "    # Make a \"GET\" request and retrieve the JSON\n",
    "    movie_reviews= requests.get(page_query).json()\n",
    "    print(movie_reviews)\n",
    "    print(movie_reviews.get(\"response\", {}).get(\"docs\", []))\n",
    "\n",
    "    # Add a twelve second interval between queries to stay within API query limits\n",
    "    time.sleep(12)\n",
    "    \n",
    "    # Try and save the reviews to the reviews_list\n",
    "    try:\n",
    "        for reviews in movie_reviews[\"response\"][\"docs\"]:\n",
    "            movie_reviews_list.append(reviews)\n",
    "            \n",
    "        # loop through the reviews[\"response\"][\"docs\"] and append each review to the list\n",
    "        # Print the page that was just retrieved\n",
    "        print(\"Checked page:\", page)\n",
    "        # Print the page number that had no results then break from the loop\n",
    "    except KeyError:\n",
    "        print(\"Error: Key 'response' or 'docs' not found in the API response.\")\n",
    "        break  # Exit the loop if there's an error"
   ]
  },
  {
   "cell_type": "code",
   "execution_count": null,
   "metadata": {},
   "outputs": [],
   "source": [
    "# Preview the first 5 results in JSON format\n",
    "# Use json.dumps with argument indent=4 to format data\n",
    "\n",
    "try:\n",
    "    for i in range(5):\n",
    "        print(json.dumps(movie_reviews_list[i], indent=4))\n",
    "except IndexError:\n",
    "    print(\"Error: Index out of range.\")"
   ]
  },
  {
   "cell_type": "code",
   "execution_count": null,
   "metadata": {},
   "outputs": [],
   "source": [
    "# Convert reviews_list to a Pandas DataFrame using json_normalize()\n",
    "movie_reviews_df = pd.json_normalize(movie_reviews_list)\n",
    "movie_reviews_df\n"
   ]
  },
  {
   "cell_type": "code",
   "execution_count": null,
   "metadata": {},
   "outputs": [],
   "source": [
    "\n",
    "# Extract the title from the \"headline.main\" column and\n",
    "# save it to a new column \"title\"\n",
    "# Title is between unicode characters \\u2018 and \\u2019. \n",
    "# End string should include \" Review\" to avoid cutting title early\n",
    "\n",
    "\n",
    "def extract_title(col):\n",
    "    start = col.find('\\u2018') + 1\n",
    "    end = col.find(' 2019 Review', start)\n",
    "    return col[start:end]\n",
    "\n",
    "\n",
    "\n",
    "movie_reviews_df['title'] = movie_reviews_df['headline.main'].apply(extract_title)\n",
    "movie_reviews_df.head()"
   ]
  },
  {
   "cell_type": "code",
   "execution_count": null,
   "metadata": {},
   "outputs": [],
   "source": [
    "# Extract 'name' and 'value' from items in \"keywords\" column\n",
    "# Extract 'name' and 'value'\n",
    "# Append the keyword item to the extracted_keywords list\n",
    "# Fix the \"keywords\" column by converting cells from a list to a string\n",
    "movie_reviews_df = {'keywords': [[{'name': 'topic', 'value': 'AI'}, {'name': 'subject', 'value': 'Machine Learning'}],\n",
    "                                    [{'name': 'topic', 'value': 'Data Science'}, {'name': 'subject', 'value': 'Python'}]]}\n",
    "\n",
    "extracted_keywords = []\n",
    "if isinstance(movie_reviews_df, pd.DataFrame) and 'keywords' in movie_reviews_df.columns:\n",
    "    for index, row in movie_reviews_df.iterrows():\n",
    "        keywords_list = row['keywords']\n",
    "        for keyword_item in keywords_list:\n",
    "            extracted_keywords.append({'name': keyword_item['name'], 'value': keyword_item['value']})"
   ]
  },
  {
   "cell_type": "code",
   "execution_count": null,
   "metadata": {
    "scrolled": true
   },
   "outputs": [],
   "source": [
    "# Create a list from the \"title\" column using to_list()\n",
    "# These titles will be used in the query for The Movie Database\n",
    "titles_list = []\n",
    "if isinstance(movie_reviews_df, pd.DataFrame):\n",
    "    if 'title' in movie_reviews_df.columns:\n",
    "        print(\"Before creating titles_list\")\n",
    "        titles_list = movie_reviews_df['title'].to_list()\n",
    "        print(\"After creating titles_list\")\n",
    "print(titles_list)\n"
   ]
  },
  {
   "cell_type": "markdown",
   "metadata": {},
   "source": [
    "### Access The Movie Database API"
   ]
  },
  {
   "cell_type": "code",
   "execution_count": null,
   "metadata": {},
   "outputs": [],
   "source": [
    "# Prepare The Movie Database query\n",
    "url = \"https://api.themoviedb.org/3/search/movie?query=\"\n",
    "tmdb_api_key = os.getenv(\"TMDB_API_KEY\")"
   ]
  },
  {
   "cell_type": "code",
   "execution_count": null,
   "metadata": {},
   "outputs": [],
   "source": [
    "# Create an empty list to store the results\n",
    "tmdb_movies_list = []\n",
    "\n",
    "# Create a request counter to sleep after every 50 requests\n",
    "request_counter = 0\n",
    "\n",
    "# Loop through the titles\n",
    "for title in titles_list[:5]:\n",
    "    # Check if we need to sleep before making a request\n",
    "    if request_counter % 50 == 0:\n",
    "        print(\"Reached a multiple of 50 requests. Sleeping for 10 seconds.\")\n",
    "        time.sleep(10)\n",
    "\n",
    "    # Add 1 to the request counter\n",
    "    request_counter += 1\n",
    "    if request_counter >= 100:\n",
    "        break\n",
    "\n",
    "    # Perform a \"GET\" request for The Movie Database\n",
    "    # Include a try clause to search for the full movie details.\n",
    "    # Use the except clause to print out a statement if a movie\n",
    "    # is not found.\n",
    "    try:\n",
    "        response = requests.get(url + title + tmdb_api_key)\n",
    "        if response.status_code == 200:\n",
    "            movie_data = response.json()\n",
    "\n",
    "            # Extract IMDb ID (TMDb ID) from the search results\n",
    "            if \"id\" in movie_data:\n",
    "                imdb_id = movie_data[\"id\"]\n",
    "                print(f\"IMDb ID for '{title}': {imdb_id}\")\n",
    "            else:\n",
    "                print(f\"IMDb ID not found for '{title}'\")\n",
    "\n",
    "            # Extract relevant information (e.g., title, release date, genres)\n",
    "            movie_info = {\n",
    "                \"title\": movie_data.get(\"title\"),\n",
    "                \"release_date\": movie_data.get(\"release_date\"),\n",
    "                \"genres\": [genre[\"name\"] for genre in movie_data.get(\"genres\", [])],\n",
    "                \"spoken_languages\": [lang[\"english_name\"] for lang in movie_data.get(\"spoken_languages\", [])],\n",
    "                \"production_countries\": [country[\"name\"] for country in movie_data.get(\"production_countries\", [])],\n",
    "            }\n",
    "            tmdb_movies_list.append(movie_info)\n",
    "        else:\n",
    "            print(f\"Error fetching data for {title}: Status code {response.status_code}\")\n",
    "    except requests.exceptions.RequestException as e:\n",
    "        print(f\"Error fetching data for {title}: {e}\")\n",
    "\n",
    "# Get movie id\n",
    "\n",
    "        # Make a request for a the full movie details\n",
    "\n",
    "\n",
    "        # Execute \"GET\" request with url\n",
    "\n",
    "        \n",
    "        # Extract the genre names into a list\n",
    "genres_list = [genre[\"name\"] for genre in movie_data.get(\"genres\", [])]\n",
    "\n",
    "        # Extract the spoken_languages' English name into a list\n",
    "spoken_languages_list = [lang[\"english_name\"] for lang in movie_data.get(\"spoken_languages\", [])]\n",
    "\n",
    "        # Extract the production_countries' name into a list\n",
    "production_countries_list = [country[\"name\"] for country in movie_data.get(\"production_countries\", [])]\n",
    "print(\"Genres:\", genres_list)\n",
    "print(\"Spoken Languages:\", spoken_languages_list)\n",
    "print(\"Production Countries:\", production_countries_list)\n",
    "\n",
    "        # Add the relevant data to a dictionary and\n",
    "        # append it to the tmdb_movies_list list\n",
    "\n",
    "        \n",
    "        # Print out the title that was found\n",
    "print(f\"Processed movie: {title}\")"
   ]
  },
  {
   "cell_type": "code",
   "execution_count": null,
   "metadata": {},
   "outputs": [],
   "source": [
    "# Preview the first 5 results in JSON format\n",
    "# Use json.dumps with argument indent=4 to format data\n",
    "for i in range(5):\n",
    "    print(f\"Result {i+1}:\")\n",
    "    print(json.dumps(tmdb_movies_list[i], indent=4))\n",
    "    print(\"\\n\")"
   ]
  },
  {
   "cell_type": "code",
   "execution_count": null,
   "metadata": {},
   "outputs": [],
   "source": [
    "# Convert the results to a DataFrame\n",
    "tmdb_movies_df = pd.DataFrame(tmdb_movies_list)\n",
    "print(df)"
   ]
  },
  {
   "cell_type": "markdown",
   "metadata": {},
   "source": [
    "### Merge and Clean the Data for Export"
   ]
  },
  {
   "cell_type": "code",
   "execution_count": null,
   "metadata": {
    "scrolled": true
   },
   "outputs": [],
   "source": [
    "# Merge the New York Times reviews and TMDB DataFrames on title\n",
    "merged_df = pd.merge(nyt_reviews_df, tmdb_movies_df, on='title', how='inner')\n",
    "print(merged_df)"
   ]
  },
  {
   "cell_type": "code",
   "execution_count": null,
   "metadata": {},
   "outputs": [],
   "source": [
    "# Remove list brackets and quotation marks on the columns containing lists\n",
    "# Create a list of the columns that need fixing\n",
    "columns_to_fix = ['genres', 'spoken_languages', 'production_countries']\n",
    "\n",
    "# Create a list of characters to remove\n",
    "characters_to_remove = ['[', ']', \"'\"]\n",
    "\n",
    "# Loop through the list of columns to fix\n",
    "for column in columns_to_fix:\n",
    "    # Convert the column to type 'str'\n",
    "    merged_df[column] = merged_df[column].astype(str)\n",
    "   \n",
    "    # Loop through characters to remove\n",
    "    merged_df[column] = merged_df[column].str.replace(char, '')\n",
    "\n",
    "# Display the fixed DataFrame\n",
    "print(merged_df.head())"
   ]
  },
  {
   "cell_type": "code",
   "execution_count": null,
   "metadata": {},
   "outputs": [],
   "source": [
    "# Drop \"byline.person\" column\n",
    "merged_df = merged_df.drop(columns=['byline.person'])\n",
    "print(merged_df)\n"
   ]
  },
  {
   "cell_type": "code",
   "execution_count": null,
   "metadata": {},
   "outputs": [],
   "source": [
    "# Delete duplicate rows and reset index\n",
    "merged_df = merged_df.drop_duplicates().reset_index(drop=True)\n",
    "print(merged_df)"
   ]
  }
 ],
 "metadata": {
  "kernelspec": {
   "display_name": "Python 3 (ipykernel)",
   "language": "python",
   "name": "python3"
  },
  "language_info": {
   "codemirror_mode": {
    "name": "ipython",
    "version": 3
   },
   "file_extension": ".py",
   "mimetype": "text/x-python",
   "name": "python",
   "nbconvert_exporter": "python",
   "pygments_lexer": "ipython3",
   "version": "3.11.7"
  },
  "varInspector": {
   "cols": {
    "lenName": 16,
    "lenType": 16,
    "lenVar": 40
   },
   "kernels_config": {
    "python": {
     "delete_cmd_postfix": "",
     "delete_cmd_prefix": "del ",
     "library": "var_list.py",
     "varRefreshCmd": "print(var_dic_list())"
    },
    "r": {
     "delete_cmd_postfix": ") ",
     "delete_cmd_prefix": "rm(",
     "library": "var_list.r",
     "varRefreshCmd": "cat(var_dic_list()) "
    }
   },
   "types_to_exclude": [
    "module",
    "function",
    "builtin_function_or_method",
    "instance",
    "_Feature"
   ],
   "window_display": false
  }
 },
 "nbformat": 4,
 "nbformat_minor": 4
}
